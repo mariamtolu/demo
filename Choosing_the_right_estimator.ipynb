{
  "nbformat": 4,
  "nbformat_minor": 0,
  "metadata": {
    "kernelspec": {
      "display_name": "Python 3",
      "language": "python",
      "name": "python3"
    },
    "language_info": {
      "codemirror_mode": {
        "name": "ipython",
        "version": 3
      },
      "file_extension": ".py",
      "mimetype": "text/x-python",
      "name": "python",
      "nbconvert_exporter": "python",
      "pygments_lexer": "ipython3",
      "version": "3.7.4"
    },
    "colab": {
      "name": "Choosing the right estimator.ipynb",
      "provenance": [],
      "include_colab_link": true
    }
  },
  "cells": [
    {
      "cell_type": "markdown",
      "metadata": {
        "id": "view-in-github",
        "colab_type": "text"
      },
      "source": [
        "<a href=\"https://colab.research.google.com/github/mariamtolu/demo/blob/main/Choosing_the_right_estimator.ipynb\" target=\"_parent\"><img src=\"https://colab.research.google.com/assets/colab-badge.svg\" alt=\"Open In Colab\"/></a>"
      ]
    },
    {
      "cell_type": "markdown",
      "metadata": {
        "id": "GRV3j0S2pmhr"
      },
      "source": [
        "# Practical Machine Learning \n",
        "### Project: Model Selection"
      ]
    },
    {
      "cell_type": "markdown",
      "metadata": {
        "id": "VhqhiXbjpmhw"
      },
      "source": [
        "# Abstract"
      ]
    },
    {
      "cell_type": "markdown",
      "metadata": {
        "id": "mhy49whvpmhx"
      },
      "source": [
        "# Part 1: Business and Data Understanding"
      ]
    },
    {
      "cell_type": "markdown",
      "metadata": {
        "id": "yCfqHyJNpmhx"
      },
      "source": [
        "### Q. Define the problem domain"
      ]
    },
    {
      "cell_type": "code",
      "metadata": {
        "id": "wl6Ohyfjpmhx",
        "colab": {
          "base_uri": "https://localhost:8080/",
          "height": 1000
        },
        "outputId": "93563a2f-2d4a-4649-fb5d-9da9530f4927"
      },
      "source": [
        "\n",
        "!pip install azureml-core\n",
        "!pip install azureml-dataset-runtime --upgrade\n",
        "# azureml-core of version 1.0.72 or higher is required\n",
        "# azureml-dataprep[pandas] of version 1.1.34 or higher is required\n",
        "from azureml.core import Workspace, Dataset\n",
        "\n",
        "subscription_id = '90491e55-0d91-47aa-bedf-5f2dd37196e4'\n",
        "resource_group = 'MariamFakeye'\n",
        "workspace_name = 'project'\n",
        "\n",
        "workspace = Workspace(subscription_id, resource_group, workspace_name)\n",
        "\n",
        "dataset = Dataset.get_by_name(workspace, name='Automobilepricedata')\n",
        "data = dataset.to_pandas_dataframe()\n",
        "data.head()"
      ],
      "execution_count": 4,
      "outputs": [
        {
          "output_type": "stream",
          "name": "stdout",
          "text": [
            "Requirement already satisfied: azureml-core in /usr/local/lib/python3.7/dist-packages (1.36.0.post2)\n",
            "Requirement already satisfied: azure-common<2.0.0,>=1.1.12 in /usr/local/lib/python3.7/dist-packages (from azureml-core) (1.1.27)\n",
            "Requirement already satisfied: azure-graphrbac<1.0.0,>=0.40.0 in /usr/local/lib/python3.7/dist-packages (from azureml-core) (0.61.1)\n",
            "Requirement already satisfied: requests<3.0.0,>=2.19.1 in /usr/local/lib/python3.7/dist-packages (from azureml-core) (2.23.0)\n",
            "Requirement already satisfied: azure-mgmt-resource<15.0.0,>=1.2.1 in /usr/local/lib/python3.7/dist-packages (from azureml-core) (13.0.0)\n",
            "Requirement already satisfied: docker<6.0.0 in /usr/local/lib/python3.7/dist-packages (from azureml-core) (5.0.3)\n",
            "Requirement already satisfied: msrest<1.0.0,>=0.5.1 in /usr/local/lib/python3.7/dist-packages (from azureml-core) (0.6.21)\n",
            "Requirement already satisfied: azure-mgmt-authorization<1.0.0,>=0.40.0 in /usr/local/lib/python3.7/dist-packages (from azureml-core) (0.61.0)\n",
            "Requirement already satisfied: jsonpickle<3.0.0 in /usr/local/lib/python3.7/dist-packages (from azureml-core) (2.0.0)\n",
            "Requirement already satisfied: azure-mgmt-containerregistry>=2.0.0 in /usr/local/lib/python3.7/dist-packages (from azureml-core) (8.2.0)\n",
            "Requirement already satisfied: cryptography!=1.9,!=2.0.*,!=2.1.*,!=2.2.*,<4.0.0 in /usr/local/lib/python3.7/dist-packages (from azureml-core) (3.4.8)\n",
            "Requirement already satisfied: adal<=1.2.7,>=1.2.0 in /usr/local/lib/python3.7/dist-packages (from azureml-core) (1.2.7)\n",
            "Requirement already satisfied: azure-mgmt-keyvault<10.0.0,>=0.40.0 in /usr/local/lib/python3.7/dist-packages (from azureml-core) (9.3.0)\n",
            "Requirement already satisfied: python-dateutil<3.0.0,>=2.7.3 in /usr/local/lib/python3.7/dist-packages (from azureml-core) (2.8.2)\n",
            "Requirement already satisfied: msrestazure<=0.6.4,>=0.4.33 in /usr/local/lib/python3.7/dist-packages (from azureml-core) (0.6.4)\n",
            "Requirement already satisfied: pytz in /usr/local/lib/python3.7/dist-packages (from azureml-core) (2018.9)\n",
            "Requirement already satisfied: backports.tempfile in /usr/local/lib/python3.7/dist-packages (from azureml-core) (1.0)\n",
            "Requirement already satisfied: contextlib2<22.0.0 in /usr/local/lib/python3.7/dist-packages (from azureml-core) (0.5.5)\n",
            "Requirement already satisfied: jmespath<1.0.0 in /usr/local/lib/python3.7/dist-packages (from azureml-core) (0.10.0)\n",
            "Requirement already satisfied: PyJWT<3.0.0 in /usr/local/lib/python3.7/dist-packages (from azureml-core) (2.3.0)\n",
            "Requirement already satisfied: SecretStorage<4.0.0 in /usr/local/lib/python3.7/dist-packages (from azureml-core) (3.3.1)\n",
            "Requirement already satisfied: pyopenssl<21.0.0 in /usr/local/lib/python3.7/dist-packages (from azureml-core) (20.0.1)\n",
            "Requirement already satisfied: azure-mgmt-storage<16.0.0,>=1.5.0 in /usr/local/lib/python3.7/dist-packages (from azureml-core) (11.2.0)\n",
            "Requirement already satisfied: pathspec<1.0.0 in /usr/local/lib/python3.7/dist-packages (from azureml-core) (0.9.0)\n",
            "Requirement already satisfied: ndg-httpsclient<=0.5.1 in /usr/local/lib/python3.7/dist-packages (from azureml-core) (0.5.1)\n",
            "Requirement already satisfied: urllib3<=1.26.7,>=1.23 in /usr/local/lib/python3.7/dist-packages (from azureml-core) (1.24.3)\n",
            "Requirement already satisfied: azure-mgmt-core<2.0.0,>=1.2.0 in /usr/local/lib/python3.7/dist-packages (from azure-mgmt-containerregistry>=2.0.0->azureml-core) (1.3.0)\n",
            "Requirement already satisfied: azure-core<2.0.0,>=1.15.0 in /usr/local/lib/python3.7/dist-packages (from azure-mgmt-core<2.0.0,>=1.2.0->azure-mgmt-containerregistry>=2.0.0->azureml-core) (1.21.0)\n",
            "Requirement already satisfied: six>=1.11.0 in /usr/local/lib/python3.7/dist-packages (from azure-core<2.0.0,>=1.15.0->azure-mgmt-core<2.0.0,>=1.2.0->azure-mgmt-containerregistry>=2.0.0->azureml-core) (1.15.0)\n",
            "Requirement already satisfied: cffi>=1.12 in /usr/local/lib/python3.7/dist-packages (from cryptography!=1.9,!=2.0.*,!=2.1.*,!=2.2.*,<4.0.0->azureml-core) (1.15.0)\n",
            "Requirement already satisfied: pycparser in /usr/local/lib/python3.7/dist-packages (from cffi>=1.12->cryptography!=1.9,!=2.0.*,!=2.1.*,!=2.2.*,<4.0.0->azureml-core) (2.21)\n",
            "Requirement already satisfied: websocket-client>=0.32.0 in /usr/local/lib/python3.7/dist-packages (from docker<6.0.0->azureml-core) (1.2.1)\n",
            "Requirement already satisfied: importlib-metadata in /usr/local/lib/python3.7/dist-packages (from jsonpickle<3.0.0->azureml-core) (4.8.2)\n",
            "Requirement already satisfied: certifi>=2017.4.17 in /usr/local/lib/python3.7/dist-packages (from msrest<1.0.0,>=0.5.1->azureml-core) (2021.10.8)\n",
            "Requirement already satisfied: requests-oauthlib>=0.5.0 in /usr/local/lib/python3.7/dist-packages (from msrest<1.0.0,>=0.5.1->azureml-core) (1.3.0)\n",
            "Requirement already satisfied: isodate>=0.6.0 in /usr/local/lib/python3.7/dist-packages (from msrest<1.0.0,>=0.5.1->azureml-core) (0.6.0)\n",
            "Requirement already satisfied: pyasn1>=0.1.1 in /usr/local/lib/python3.7/dist-packages (from ndg-httpsclient<=0.5.1->azureml-core) (0.4.8)\n",
            "Requirement already satisfied: idna<3,>=2.5 in /usr/local/lib/python3.7/dist-packages (from requests<3.0.0,>=2.19.1->azureml-core) (2.10)\n",
            "Requirement already satisfied: chardet<4,>=3.0.2 in /usr/local/lib/python3.7/dist-packages (from requests<3.0.0,>=2.19.1->azureml-core) (3.0.4)\n",
            "Requirement already satisfied: oauthlib>=3.0.0 in /usr/local/lib/python3.7/dist-packages (from requests-oauthlib>=0.5.0->msrest<1.0.0,>=0.5.1->azureml-core) (3.1.1)\n",
            "Requirement already satisfied: jeepney>=0.6 in /usr/local/lib/python3.7/dist-packages (from SecretStorage<4.0.0->azureml-core) (0.7.1)\n",
            "Requirement already satisfied: backports.weakref in /usr/local/lib/python3.7/dist-packages (from backports.tempfile->azureml-core) (1.0.post1)\n",
            "Requirement already satisfied: typing-extensions>=3.6.4 in /usr/local/lib/python3.7/dist-packages (from importlib-metadata->jsonpickle<3.0.0->azureml-core) (3.10.0.2)\n",
            "Requirement already satisfied: zipp>=0.5 in /usr/local/lib/python3.7/dist-packages (from importlib-metadata->jsonpickle<3.0.0->azureml-core) (3.6.0)\n",
            "Collecting azureml-dataset-runtime\n",
            "  Downloading azureml_dataset_runtime-1.36.0-py3-none-any.whl (3.5 kB)\n",
            "Requirement already satisfied: numpy!=1.19.3 in /usr/local/lib/python3.7/dist-packages (from azureml-dataset-runtime) (1.19.5)\n",
            "Collecting azureml-dataprep<2.25.0a,>=2.24.0a\n",
            "  Downloading azureml_dataprep-2.24.4-py3-none-any.whl (39.4 MB)\n",
            "\u001b[K     |████████████████████████████████| 39.4 MB 1.3 MB/s \n",
            "\u001b[?25hRequirement already satisfied: pyarrow<4.0.0,>=0.17.0 in /usr/local/lib/python3.7/dist-packages (from azureml-dataset-runtime) (3.0.0)\n",
            "Collecting azureml-dataprep-rslex~=2.0.0dev0\n",
            "  Downloading azureml_dataprep_rslex-2.0.3-cp37-cp37m-manylinux2010_x86_64.whl (13.1 MB)\n",
            "\u001b[K     |████████████████████████████████| 13.1 MB 37.8 MB/s \n",
            "\u001b[?25hCollecting azureml-dataprep-native<39.0.0,>=38.0.0\n",
            "  Downloading azureml_dataprep_native-38.0.0-cp37-cp37m-manylinux1_x86_64.whl (1.3 MB)\n",
            "\u001b[K     |████████████████████████████████| 1.3 MB 36.0 MB/s \n",
            "\u001b[?25hRequirement already satisfied: cloudpickle<2.0.0,>=1.1.0 in /usr/local/lib/python3.7/dist-packages (from azureml-dataprep<2.25.0a,>=2.24.0a->azureml-dataset-runtime) (1.3.0)\n",
            "Collecting azure-identity==1.7.0\n",
            "  Downloading azure_identity-1.7.0-py2.py3-none-any.whl (129 kB)\n",
            "\u001b[K     |████████████████████████████████| 129 kB 47.4 MB/s \n",
            "\u001b[?25hCollecting dotnetcore2<3.0.0,>=2.1.14\n",
            "  Downloading dotnetcore2-2.1.21-py3-none-manylinux1_x86_64.whl (28.7 MB)\n",
            "\u001b[K     |████████████████████████████████| 28.7 MB 138 kB/s \n",
            "\u001b[?25hRequirement already satisfied: six>=1.12.0 in /usr/local/lib/python3.7/dist-packages (from azure-identity==1.7.0->azureml-dataprep<2.25.0a,>=2.24.0a->azureml-dataset-runtime) (1.15.0)\n",
            "Requirement already satisfied: azure-core<2.0.0,>=1.11.0 in /usr/local/lib/python3.7/dist-packages (from azure-identity==1.7.0->azureml-dataprep<2.25.0a,>=2.24.0a->azureml-dataset-runtime) (1.21.0)\n",
            "Requirement already satisfied: cryptography>=2.5 in /usr/local/lib/python3.7/dist-packages (from azure-identity==1.7.0->azureml-dataprep<2.25.0a,>=2.24.0a->azureml-dataset-runtime) (3.4.8)\n",
            "Collecting msal<2.0.0,>=1.12.0\n",
            "  Downloading msal-1.16.0-py2.py3-none-any.whl (78 kB)\n",
            "\u001b[K     |████████████████████████████████| 78 kB 6.9 MB/s \n",
            "\u001b[?25hCollecting msal-extensions~=0.3.0\n",
            "  Downloading msal_extensions-0.3.0-py2.py3-none-any.whl (16 kB)\n",
            "Requirement already satisfied: requests>=2.18.4 in /usr/local/lib/python3.7/dist-packages (from azure-core<2.0.0,>=1.11.0->azure-identity==1.7.0->azureml-dataprep<2.25.0a,>=2.24.0a->azureml-dataset-runtime) (2.23.0)\n",
            "Requirement already satisfied: cffi>=1.12 in /usr/local/lib/python3.7/dist-packages (from cryptography>=2.5->azure-identity==1.7.0->azureml-dataprep<2.25.0a,>=2.24.0a->azureml-dataset-runtime) (1.15.0)\n",
            "Requirement already satisfied: pycparser in /usr/local/lib/python3.7/dist-packages (from cffi>=1.12->cryptography>=2.5->azure-identity==1.7.0->azureml-dataprep<2.25.0a,>=2.24.0a->azureml-dataset-runtime) (2.21)\n",
            "Collecting distro>=1.2.0\n",
            "  Downloading distro-1.6.0-py2.py3-none-any.whl (19 kB)\n",
            "Requirement already satisfied: PyJWT[crypto]<3,>=1.0.0 in /usr/local/lib/python3.7/dist-packages (from msal<2.0.0,>=1.12.0->azure-identity==1.7.0->azureml-dataprep<2.25.0a,>=2.24.0a->azureml-dataset-runtime) (2.3.0)\n",
            "Collecting portalocker~=1.0\n",
            "  Downloading portalocker-1.7.1-py2.py3-none-any.whl (10 kB)\n",
            "Requirement already satisfied: chardet<4,>=3.0.2 in /usr/local/lib/python3.7/dist-packages (from requests>=2.18.4->azure-core<2.0.0,>=1.11.0->azure-identity==1.7.0->azureml-dataprep<2.25.0a,>=2.24.0a->azureml-dataset-runtime) (3.0.4)\n",
            "Requirement already satisfied: certifi>=2017.4.17 in /usr/local/lib/python3.7/dist-packages (from requests>=2.18.4->azure-core<2.0.0,>=1.11.0->azure-identity==1.7.0->azureml-dataprep<2.25.0a,>=2.24.0a->azureml-dataset-runtime) (2021.10.8)\n",
            "Requirement already satisfied: idna<3,>=2.5 in /usr/local/lib/python3.7/dist-packages (from requests>=2.18.4->azure-core<2.0.0,>=1.11.0->azure-identity==1.7.0->azureml-dataprep<2.25.0a,>=2.24.0a->azureml-dataset-runtime) (2.10)\n",
            "Requirement already satisfied: urllib3!=1.25.0,!=1.25.1,<1.26,>=1.21.1 in /usr/local/lib/python3.7/dist-packages (from requests>=2.18.4->azure-core<2.0.0,>=1.11.0->azure-identity==1.7.0->azureml-dataprep<2.25.0a,>=2.24.0a->azureml-dataset-runtime) (1.24.3)\n",
            "Installing collected packages: portalocker, msal, msal-extensions, distro, dotnetcore2, azureml-dataprep-rslex, azureml-dataprep-native, azure-identity, azureml-dataprep, azureml-dataset-runtime\n",
            "Successfully installed azure-identity-1.7.0 azureml-dataprep-2.24.4 azureml-dataprep-native-38.0.0 azureml-dataprep-rslex-2.0.3 azureml-dataset-runtime-1.36.0 distro-1.6.0 dotnetcore2-2.1.21 msal-1.16.0 msal-extensions-0.3.0 portalocker-1.7.1\n"
          ]
        },
        {
          "output_type": "display_data",
          "data": {
            "application/vnd.colab-display-data+json": {
              "pip_warning": {
                "packages": [
                  "azure",
                  "azureml"
                ]
              }
            }
          },
          "metadata": {}
        },
        {
          "output_type": "execute_result",
          "data": {
            "text/html": [
              "<div>\n",
              "<style scoped>\n",
              "    .dataframe tbody tr th:only-of-type {\n",
              "        vertical-align: middle;\n",
              "    }\n",
              "\n",
              "    .dataframe tbody tr th {\n",
              "        vertical-align: top;\n",
              "    }\n",
              "\n",
              "    .dataframe thead th {\n",
              "        text-align: right;\n",
              "    }\n",
              "</style>\n",
              "<table border=\"1\" class=\"dataframe\">\n",
              "  <thead>\n",
              "    <tr style=\"text-align: right;\">\n",
              "      <th></th>\n",
              "      <th>symboling</th>\n",
              "      <th>normalized-losses</th>\n",
              "      <th>make</th>\n",
              "      <th>fuel-type</th>\n",
              "      <th>aspiration</th>\n",
              "      <th>num-of-doors</th>\n",
              "      <th>body-style</th>\n",
              "      <th>drive-wheels</th>\n",
              "      <th>engine-location</th>\n",
              "      <th>wheel-base</th>\n",
              "      <th>length</th>\n",
              "      <th>width</th>\n",
              "      <th>height</th>\n",
              "      <th>curb-weight</th>\n",
              "      <th>engine-type</th>\n",
              "      <th>num-of-cylinders</th>\n",
              "      <th>engine-size</th>\n",
              "      <th>fuel-system</th>\n",
              "      <th>bore</th>\n",
              "      <th>stroke</th>\n",
              "      <th>compression-ratio</th>\n",
              "      <th>horsepower</th>\n",
              "      <th>peak-rpm</th>\n",
              "      <th>city-mpg</th>\n",
              "      <th>highway-mpg</th>\n",
              "      <th>price</th>\n",
              "    </tr>\n",
              "  </thead>\n",
              "  <tbody>\n",
              "    <tr>\n",
              "      <th>0</th>\n",
              "      <td>3</td>\n",
              "      <td>?</td>\n",
              "      <td>alfa-romero</td>\n",
              "      <td>gas</td>\n",
              "      <td>std</td>\n",
              "      <td>two</td>\n",
              "      <td>convertible</td>\n",
              "      <td>rwd</td>\n",
              "      <td>front</td>\n",
              "      <td>88.6</td>\n",
              "      <td>168.8</td>\n",
              "      <td>64.1</td>\n",
              "      <td>48.8</td>\n",
              "      <td>2548</td>\n",
              "      <td>dohc</td>\n",
              "      <td>four</td>\n",
              "      <td>130</td>\n",
              "      <td>mpfi</td>\n",
              "      <td>3.47</td>\n",
              "      <td>2.68</td>\n",
              "      <td>9.0</td>\n",
              "      <td>111</td>\n",
              "      <td>5000</td>\n",
              "      <td>21</td>\n",
              "      <td>27</td>\n",
              "      <td>13495</td>\n",
              "    </tr>\n",
              "    <tr>\n",
              "      <th>1</th>\n",
              "      <td>3</td>\n",
              "      <td>?</td>\n",
              "      <td>alfa-romero</td>\n",
              "      <td>gas</td>\n",
              "      <td>std</td>\n",
              "      <td>two</td>\n",
              "      <td>convertible</td>\n",
              "      <td>rwd</td>\n",
              "      <td>front</td>\n",
              "      <td>88.6</td>\n",
              "      <td>168.8</td>\n",
              "      <td>64.1</td>\n",
              "      <td>48.8</td>\n",
              "      <td>2548</td>\n",
              "      <td>dohc</td>\n",
              "      <td>four</td>\n",
              "      <td>130</td>\n",
              "      <td>mpfi</td>\n",
              "      <td>3.47</td>\n",
              "      <td>2.68</td>\n",
              "      <td>9.0</td>\n",
              "      <td>111</td>\n",
              "      <td>5000</td>\n",
              "      <td>21</td>\n",
              "      <td>27</td>\n",
              "      <td>16500</td>\n",
              "    </tr>\n",
              "    <tr>\n",
              "      <th>2</th>\n",
              "      <td>1</td>\n",
              "      <td>?</td>\n",
              "      <td>alfa-romero</td>\n",
              "      <td>gas</td>\n",
              "      <td>std</td>\n",
              "      <td>two</td>\n",
              "      <td>hatchback</td>\n",
              "      <td>rwd</td>\n",
              "      <td>front</td>\n",
              "      <td>94.5</td>\n",
              "      <td>171.2</td>\n",
              "      <td>65.5</td>\n",
              "      <td>52.4</td>\n",
              "      <td>2823</td>\n",
              "      <td>ohcv</td>\n",
              "      <td>six</td>\n",
              "      <td>152</td>\n",
              "      <td>mpfi</td>\n",
              "      <td>2.68</td>\n",
              "      <td>3.47</td>\n",
              "      <td>9.0</td>\n",
              "      <td>154</td>\n",
              "      <td>5000</td>\n",
              "      <td>19</td>\n",
              "      <td>26</td>\n",
              "      <td>16500</td>\n",
              "    </tr>\n",
              "    <tr>\n",
              "      <th>3</th>\n",
              "      <td>2</td>\n",
              "      <td>164</td>\n",
              "      <td>audi</td>\n",
              "      <td>gas</td>\n",
              "      <td>std</td>\n",
              "      <td>four</td>\n",
              "      <td>sedan</td>\n",
              "      <td>fwd</td>\n",
              "      <td>front</td>\n",
              "      <td>99.8</td>\n",
              "      <td>176.6</td>\n",
              "      <td>66.2</td>\n",
              "      <td>54.3</td>\n",
              "      <td>2337</td>\n",
              "      <td>ohc</td>\n",
              "      <td>four</td>\n",
              "      <td>109</td>\n",
              "      <td>mpfi</td>\n",
              "      <td>3.19</td>\n",
              "      <td>3.40</td>\n",
              "      <td>10.0</td>\n",
              "      <td>102</td>\n",
              "      <td>5500</td>\n",
              "      <td>24</td>\n",
              "      <td>30</td>\n",
              "      <td>13950</td>\n",
              "    </tr>\n",
              "    <tr>\n",
              "      <th>4</th>\n",
              "      <td>2</td>\n",
              "      <td>164</td>\n",
              "      <td>audi</td>\n",
              "      <td>gas</td>\n",
              "      <td>std</td>\n",
              "      <td>four</td>\n",
              "      <td>sedan</td>\n",
              "      <td>4wd</td>\n",
              "      <td>front</td>\n",
              "      <td>99.4</td>\n",
              "      <td>176.6</td>\n",
              "      <td>66.4</td>\n",
              "      <td>54.3</td>\n",
              "      <td>2824</td>\n",
              "      <td>ohc</td>\n",
              "      <td>five</td>\n",
              "      <td>136</td>\n",
              "      <td>mpfi</td>\n",
              "      <td>3.19</td>\n",
              "      <td>3.40</td>\n",
              "      <td>8.0</td>\n",
              "      <td>115</td>\n",
              "      <td>5500</td>\n",
              "      <td>18</td>\n",
              "      <td>22</td>\n",
              "      <td>17450</td>\n",
              "    </tr>\n",
              "  </tbody>\n",
              "</table>\n",
              "</div>"
            ],
            "text/plain": [
              "   symboling normalized-losses         make  ... city-mpg highway-mpg  price\n",
              "0          3                 ?  alfa-romero  ...       21          27  13495\n",
              "1          3                 ?  alfa-romero  ...       21          27  16500\n",
              "2          1                 ?  alfa-romero  ...       19          26  16500\n",
              "3          2               164         audi  ...       24          30  13950\n",
              "4          2               164         audi  ...       18          22  17450\n",
              "\n",
              "[5 rows x 26 columns]"
            ]
          },
          "metadata": {},
          "execution_count": 4
        }
      ]
    },
    {
      "cell_type": "markdown",
      "metadata": {
        "id": "1dlhIE7Zpmhy"
      },
      "source": [
        "### Q. Identify candidate questions for your machine learning project"
      ]
    },
    {
      "cell_type": "code",
      "metadata": {
        "id": "lzPDqOWFpmhy"
      },
      "source": [
        ""
      ],
      "execution_count": null,
      "outputs": []
    },
    {
      "cell_type": "markdown",
      "metadata": {
        "id": "T-KhLCSlvAVh"
      },
      "source": [
        "regression"
      ]
    },
    {
      "cell_type": "markdown",
      "metadata": {
        "id": "tvb2H-FDpmhz"
      },
      "source": [
        "### Q. Identify a suitable dataset for your canditate question(s)"
      ]
    },
    {
      "cell_type": "markdown",
      "metadata": {
        "id": "xF3XGefnpmh0"
      },
      "source": [
        "Go have a look at any of these websites:\n",
        "\n",
        "* https://www.kaggle.com/datasets \n",
        "* https://datasetsearch.research.google.com/\n",
        "* https://data.gov.uk/\n",
        "\n",
        "Find an interesting looking data set related to your problem domain and get a copy of it\n"
      ]
    },
    {
      "cell_type": "code",
      "metadata": {
        "id": "xou_26H-pmh1"
      },
      "source": [
        "symboling\tnormalized-losses\tmake\tfuel-type\taspiration\tnum-of-doors\tbody-style\tdrive-wheels\tengine-location\twheel-base\tlength\twidth\theight\tcurb-weight\tengine-type\tnum-of-cylinders\tengine-size\tfuel-system\tbore\tstroke\tcompression-ratio\thorsepower\tpeak-rpm\tcity-mpg\thighway-mpg\tprice\n",
        "0\t3\t?\talfa-romero\tgas\tstd\ttwo\tconvertible\trwd\tfront\t88.6\t168.8\t64.1\t48.8\t2548\tdohc\tfour\t130\tmpfi\t3.47\t2.68\t9.0\t111\t5000\t21\t27\t13495\n",
        "1\t3\t?\talfa-romero\tgas\tstd\ttwo\tconvertible\trwd\tfront\t88.6\t168.8\t64.1\t48.8\t2548\tdohc\tfour\t130\tmpfi\t3.47\t2.68\t9.0\t111\t5000\t21\t27\t16500\n",
        "2\t1\t?\talfa-romero\tgas\tstd\ttwo\thatchback\trwd\tfront\t94.5\t171.2\t65.5\t52.4\t2823\tohcv\tsix\t152\tmpfi\t2.68\t3.47\t9.0\t154\t5000\t19\t26\t16500\n",
        "3\t2\t164\taudi\tgas\tstd\tfour\tsedan\tfwd\tfront\t99.8\t176.6\t66.2\t54.3\t2337\tohc\tfour\t109\tmpfi\t3.19\t3.40\t10.0\t102\t5500\t24\t30\t13950\n",
        "4\t2\t164\taudi\tgas\tstd\tfour\tsedan\t4wd\tfront\t99.4\t176.6\t66.4\t54.3\t2824\tohc\tfive\t136\tmpfi\t3.19\t3.40\t8.0\t115\t5500\t18\t22\t17450"
      ],
      "execution_count": null,
      "outputs": []
    },
    {
      "cell_type": "markdown",
      "metadata": {
        "id": "DFakc_OFpmh1"
      },
      "source": [
        "### Q. Generate a descriptive statistics report for the columns in your dataset"
      ]
    },
    {
      "cell_type": "code",
      "metadata": {
        "id": "5DZC7Oqlpmh1"
      },
      "source": [
        ""
      ],
      "execution_count": 11,
      "outputs": []
    },
    {
      "cell_type": "markdown",
      "metadata": {
        "id": "-Eyd7DbZvhl6"
      },
      "source": [
        "![image.png](data:image/png;base64,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)"
      ]
    },
    {
      "cell_type": "markdown",
      "metadata": {
        "id": "cbzbNdgcvJfS"
      },
      "source": [
        ""
      ]
    },
    {
      "cell_type": "markdown",
      "metadata": {
        "id": "nWh0wI1rpmh2"
      },
      "source": [
        "# Part 2: Data Preparation"
      ]
    },
    {
      "cell_type": "markdown",
      "metadata": {
        "id": "vttxkxSMpmh2"
      },
      "source": [
        "### Q. Discuss the following types of missing data and how they would be handled in reference to your dataset where applicable.\n",
        "*\tMissing completely at random (MCAR)\n",
        "*\tMissing at random (MAR)\n",
        "*\tMissing Not at Random (MNAR)"
      ]
    },
    {
      "cell_type": "code",
      "metadata": {
        "id": "ktW4DOTBpmh3"
      },
      "source": [
        ""
      ],
      "execution_count": null,
      "outputs": []
    },
    {
      "cell_type": "markdown",
      "metadata": {
        "id": "T7R-ZD8sy1iG"
      },
      "source": [
        ""
      ]
    },
    {
      "cell_type": "markdown",
      "metadata": {
        "id": "jPpyAUehy10_"
      },
      "source": [
        "data were missing at random and I would ave dropped it"
      ]
    },
    {
      "cell_type": "markdown",
      "metadata": {
        "id": "pzVDEqG6pmh3"
      },
      "source": [
        "# Part 3: Model Selection"
      ]
    },
    {
      "cell_type": "markdown",
      "metadata": {
        "id": "xBnEUbXmpmh3"
      },
      "source": [
        "### Q. Use the cheat sheet below to choose the algorithm/estimator suitable for building a model to address your candidate question(s)\n",
        "\n",
        "* https://scikit-learn.org/stable/tutorial/machine_learning_map/"
      ]
    },
    {
      "cell_type": "markdown",
      "metadata": {
        "id": "ua2uqpZcmhB8"
      },
      "source": [
        ""
      ]
    },
    {
      "cell_type": "markdown",
      "metadata": {
        "id": "NxQiaBTPpmh4"
      },
      "source": [
        ""
      ]
    },
    {
      "cell_type": "code",
      "metadata": {
        "id": "kSvNKN82pmh5"
      },
      "source": [
        ""
      ],
      "execution_count": null,
      "outputs": []
    },
    {
      "cell_type": "markdown",
      "metadata": {
        "id": "6NrdT2XLwAab"
      },
      "source": [
        ""
      ]
    },
    {
      "cell_type": "markdown",
      "metadata": {
        "id": "a2T1gJJMwyDs"
      },
      "source": [
        ""
      ]
    },
    {
      "cell_type": "markdown",
      "metadata": {
        "id": "R7LiK9dvwyhO"
      },
      "source": [
        "![image.png](data:image/png;base64,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)"
      ]
    },
    {
      "cell_type": "markdown",
      "metadata": {
        "id": "KR3qtdsUrgQ7"
      },
      "source": [
        ""
      ]
    },
    {
      "cell_type": "markdown",
      "metadata": {
        "id": "9Ysz2C2-lKpR"
      },
      "source": [
        ""
      ]
    },
    {
      "cell_type": "markdown",
      "metadata": {
        "id": "OcHXlI58k7Vd"
      },
      "source": [
        ""
      ]
    },
    {
      "cell_type": "markdown",
      "metadata": {
        "id": "gi7majmnpmh4"
      },
      "source": [
        "# Part 4: Model Evaluation"
      ]
    },
    {
      "cell_type": "markdown",
      "metadata": {
        "id": "FEyPiqAUpmh4"
      },
      "source": [
        "### Q. Identify which of the statistical measures below are suitable for the evaluation of your model.\n",
        "\n",
        "Classification Metrics:\n",
        "* Accuracy\n",
        "* Precision\n",
        "* Recall\n",
        "* F1 Score\n",
        "\n",
        "Regression Metrics:\n",
        "    \n",
        "* Mean absolute error (MAE)\n",
        "* Root mean squared error (RMSE)\n",
        "* Relative absolute error (RAE)\n",
        "* Relative squared error (RSE)\n",
        "* Mean Zero One Error (MZOE)\n",
        "* Coefficient of determination\n",
        "\n",
        " "
      ]
    },
    {
      "cell_type": "markdown",
      "metadata": {
        "id": "Y-7YvkoMlnwV"
      },
      "source": [
        "![image.png](data:image/png;base64,iVBORw0KGgoAAAANSUhEUgAAAtIAAAELCAYAAAD0s2HQAAAAAXNSR0IArs4c6QAAAARnQU1BAACxjwv8YQUAAAAJcEhZcwAADsMAAA7DAcdvqGQAAE3eSURBVHhe7d1taBxHui/wR5e94EAO2LAKY3sXMsH6IGsNkbkCj3XOB09shZXJgVWwwSOyViyfCxsrK3adLKsjx8ZaTQReJ4vW8l7IjWxlgybgYAVOkBMrtvIhkRTwRQpryzog4zEktgYrYEECFmygb1V1dU/1e0/PjF7/v6C4p6dfqqqrqqura7orNIYAAAAAAKAg/0P+CwAAAAAABUBDGgAAAAAgAjSkAQAAAAAiQEMaAAAAACACNKQBAAAAACJAQxoAAAAAIIJQj7+r6JiWU3laT42cAgADygqsZcjfsBogn8JSQo80AAAAAEAEaEgDAAAAAESAhjQAAAAAQARoSAMAAAAARICGNAAAAABABGhIAwAAAABEgIY0AAAAAEAEaEgDAAAAAESAhjQAAAAAQARoSAMAAAAARICGNCyL6QspSl1wvsYVlsD8CJ1KnaKRefVzigZuys/L7eYApVIDVO7cgTwIxZmnkZMpOnXVKEhlYi+vsLoVWr+J5Zfm+C93nSj2f3KElazVBQ1pAAAAAIAIVndDeol6rgDWtMoGOp3JUMsO+Rk8zV89tSp7TGC9maaBlXSXCaLb0UKZzGlqqJSf17CaIxnKdDXQaosqeqQBAAAAACKo0Bg57amiw9nnq/XUyCkvfPxYO43Vd1L9WJoG7hA1dBi9XvxqOU0jYjmuilp6nVdcvPen/b1Z+YnZ20mZI/p++Via9DUxKTVQZ6aF/EIl1qFO9l/aXLfqcC+dfp5EWHkY8/OsgbGHJR8XnT08lu/5GLf2MarvPUgP2vPxdtuPK7H+AJl739ZCvcpVm3XfLB06iNI9ZKaHCPv9g2baCWaY8ukeKg4d9TTWw8OST++gtGFbth5vdhzFMWD/t4TJk219S/w98lnMO7ziTkZPPvfZ01P/nqWfSEe2HPueXyWHEa2syLSPmDetx81ZlqzHh30v0kQ59lHzQtT8zPhu30j/TB3dUI67Y/v246jUD0a+MNKNs+dLI831dXgeu0RbbGmXX+Ypx/Ys+cZeRi1hCeC7rkf+JmceNcLiV28KS56/nXHg9ONhLdv2Y6QfF6+yz9jTzva9cfx6t15S0iT4XGHy3b4Rr15qoz6f7dvzoq2MBtVHZnnT1wmsz3O27TFqulrLnvu514vfukZaG3WYWn9FagcYcVLq8AxL1zCi1sOC/Zib5UeG11Ke9HlZWTeZ9UXdDeUYuB3v/PmZs6arrRzYlzc+926hS0o4HWXHMx4GW/qz78Odl/P53lrf69sjGQ7fOLkcWx4/MtLPlr75PGItW0Z6B5Zv3zJm24e9/IXBG9JB6I+3HH/BHmpX3zikHTp0Urv6UM7iHl7VTh46pJ38VJn5j4tsuUPaxX/Iz8ytfr7uRS2/J7m9N66yKUmspy7jT9+msh+5X+c8a5gffnrSul8ZB3Md9vmiIz7KNuTylrC67MfdLe2iui+eDv35sIg4uYRN3ZcIf78tlcRy1jCGioO6LyYwbWT41eMt1uHbsofJlT3+9jj75zPX8NqWdeQ1I1+ECp9VtLJihMGeD93muYRdDadtGT2+ahnR09N5bK2fy5efmaDti8+27ct9mvnIHmYeLzMdZBzVdLGvz1jTjq/jDL89fR35nXOEReZJdf9eAtf1yN9GGtn24cjLxvpqmD3WDSNa/nbGwawDHPOcedW77PPPLnFV4qWnh3rcncv48d++ES+XfKXEw5mHLtribD22jmNoyyNiHXv43cqDLe04e1gKKbdB6+rhtu/TeewFl/Jo5EtzfbmMo7yFEC2fMkHl0fa9PU2MNFDnOY6xiKf1+AbXh8ryMp3UdHGUnaB4yPyhpr++DWvYvYhlbcfFMi8oTiJ81jhw9vRUywonvlfWMdLbr3w70p8vY7ahguuYMMo/tGPvQcvV7vTH7OqDXflYrmR2tFDnXnblekNeRbKrlUvX+FWcelVRSQ2vtlDVnTGaKmaAItu3eVW0Yz+1bGP/OubN0tiksZNpGn6PqOVV5QqlsoEOquFln1ss8alj10Sz9CAnP0sNHUp8HPvxMH+fsuyKdktMfubpcESGxUgnW9hOd4TrXbIIG4cD6pVacNrMX71EI+wKr03ZduXzp8XxDkOsrx4fpuYFl3xgy2cGZ3jZtW+HtQem5kgni+sI3bCMJ2Tp+oLlmrb8Cs2b4vizq2+198CyjBFftRzViHJVJT+5Kmd+5kJt31b+2Tpth6todmyKxB5yD9gacdpqbobFS6aDked61XSxr19CvE6jw21KnmJllOU7unaDHQF/odd1zd+2PFpQvbn0+btKiWfl8yw+rvPy5TBM2a85Yo1rbT3L2ffuW4+xpf4Jf2y4UNtnYVTPZ9b6ZJ7u32Px3PqU+I6rfL5FxrmQ+qgEAusLH2HXZWm9XzlepijtAMlah5dXYHkU57dZGviYfbo5QGl7mnC2uqfy+Tb/NA5Z31qx8qucd+1lJygexZ6XK3fW2+qUeZoam6Wq+lo9TCHjFHRs82VFV1PH4nDnAT2UnwXf8u1Wxtgysg0Vun0RoOwNabUC4YnNK5WGOlvGY0QCGRUUP0luq6daewpX1lI9y5D+Gaxw1jDaiIYsKzjtKUql8n/qLQuBVTT8EWL69+qtCIPaGC6AUXD5/u2PpfFKp6gKjUOItHl4XylcEfD16Vrasv2UertKcj+GbuFtoDpHRV9DdawCyT5QS47aSFs+vnlTNCZHKK2mTUq5hewZ3xDKlZ8Ngdt3pn/llni+EhUncT3u9sePeeU5vfK3VcJF0+u02ffaZVzkn+3Wurvw67rnA1saFVRvroz8Hd/iHYiwZZ/f3jW+twxpMTy9NXL9wwVt33lsnqIt7CJYr0/0E7t+jG0/jC+oPiqBoPrCT9h1PdLamkYh2wFCkfVMQcKVR3Ghw/Mlm2/tpJAcaVBJW59m273vU/ME1od2fuU3OB7FnpeNdol5cTA/RWN32Dy18VyicwgfyuQWB5Nf+Q44B4atY4Lgx4ah8DE3GcrY/+RVp6hoxfg04zveo1A64pesmV5quScPeBme8xg9Dv5pUwp8rJ1j++vkV8yBeO+HI20ytrFrhSl3fi7N9lkDpUtfNy5PGGV/nq8PPv5PTX/9z+Uk66KYddc637IvT9RiTKX8rvew772WwpRq++KpC3zdrGyILuOTpoqpL8pQ16xEweVRv1AqlXLVt+WuV/hFj3GHb35yjGb31pnbLk2c+NhldvE6Vp/Pd1HutgcoRftiiRvS+pWZ/dYNN32DXWkYVxaxLe5d6+KqZymvUJnKrezaz+822zTduMYzbbkbdrLhwDOSelvSJZ3mH2TllMJ+O1L0MBgixiEwbXTO2+n6FXMYT20t4e14z/Dq8ffrHVuRvMqJhUt8Lcfertz5Ofr2RR2hVNa6GmphFR9v4Bj5xCvPiMp+2xZ2GvRi77UNk0+967RgxazrYiXVmyUQVPb142kbwlNCkbcv07t+pzWD81vneoNClsli6iPf+txDqPrCQzHrOoRsByy5cOVx/mofDTzNLq7YuXikJ8xFkazzXHrgi6kPvYWLRzHnZYEP1xB5Qh/WkY9fieJ08wYrHQ3UWegP/1QBbZRStS+WvEdajD+5lrb2HomxRsqYPXM4g5pJ52nkHB9XpYy14oWbsnS/JIXbi36bzV5g5q8OyDcNqbfxdNMXwtyaCWl+hAa8etrkGLWBc8pzbdnyfbbbj/ot7QEaNjMTu9Kz3CKJGoegtJHHm+27T4mDqIjC3E5kjLCr64vwR+qVr6H9rME10mN9S5SIKzthuo7tW8nkLXvL8WemL8jjIcqR/fjYj71dmfNz6O2PUFp9XrOoI5STEfvs9YxcMV6Q5Zl2NY/IcuE9Jk/m5Q/z+3TLp5bhJZK4Hc3qNEt4/Mqtoph1HcLWm6tEUNl3HAuXuq8YYbfPb6Hnj59Mb3OIDft8weu549Hqo+D6nHOWs8D6wk8x67oI1Q5YBoHlkYWxnf8uiIfRGF5mPxfZ4qXXb17DC8pT3wbFo9jzso7nX6Kxj4dpjNT8WqI4Odp3QecuN25lLF8mS9W++In8d+mwyv50L9Gp9nZKsQyp48MDTrMo5/HhDJ2UonQqn3CiC169jSROHKzwtadoQGyjPLdD3cLCf2CSeZ5PVIof84wp8Wno6BRjqEoly29dW9LKiCfvpWaJebKd2lMDYo64/caulNt79I8CS6e2w2NsXkpmZraN3hbKto+JT8XEwT9tGJfjzY9j5952CpVCrvmF/6DqtJwuDO8V6qVT1C7yjMTD27V8lXd0Lsef4elrpI7z+NiPvV2583PY7bNwHnjA4pWSn/ly1sc7jZj5meH53uy54L3UnUSpNKVY41vH80zGtzEpxj6ydYy0dM2n4uTJ5vH0NPbJb913sN2p4RHllJ3MghSzrotQ9eZqEVT2xY/TlLiy49HJTpppr6xdqJDbrzrcSVs+TLFjKGdY8iJzjzW+lPKp5uNI9VFgfc6xcsYuGgd69LTT9xlcX3grZl0XrseW53trO2DJ+ZVH1hA9xRpyPM56PWLUZazhvFV5FBw7fgfvs3iZVRdf36ttErY+LFBQvVLseVniDVF6j+UHtm6+hilRnIx8bpYNFn5xF0B8CM2tjIljyCeC6piQyvgcaVg27KrZ/pxKWBooK7CWIX/DarBc+ZSPDQ5+DjOsNWuqIe14EYFJv8JYqbc2Sx7u1dSQ5lf5Hr+SFb0dq6wnDQ2N1VsOy2GtpcXayt/Ttpc9KHiv8LpqDK2ttEBDulgoG4VAj/RahB7pZYOyAmsZ8jesBmhIw1LC4+8AAAAAACJAQ3ot4j80QG80AADAkuE/9kVv9PqDhjQAAAAAQARoSAMAAAAARICGNAAAAABABGhIAwAAAABEgIY0AAAAAEAEaEgDAAAAAESAhjQAAAAAQARoSAMAAAAARICGNAAAAABABEvTkF6Yocxvd1PFwQzl5CwT+27oT0dpd1UFVVRU0DOJo5T+aIYW5Nd+Fj5uo81snYqKFynzrZzpaYreSuj7qPjThJwXoKCwLdDMR2k6mnhG30fVbnrxDxma8YrIjzka7dnPwp+mkKGBtY7niXNttH/HZpGHNu94jo7+eZRyP8rvVY5l91PbOfuyE5TmeTHgL/2VXNyPXxkOEe7cBy869uv4c9s2rC1e+ei7KcqwuvY5o/6seIZ2H2yj8196VKCOuvlFeu0Dl7r5hyxdYXnzxeR2ea7YTNuTej2+KBfxt0DZT85T28Hd9IzMp57ngUj7WtS3/+/GOnpc0p97nThgKSzcGqL0EeOY87z4GmVuhTwmoermvEL3tXjvCp1/ZT9t36znF9HW+NOoR7sEloQWAv3xluMvjMffjGuDXU1anO2G74oODGpz8jshO6ilYvK7WLWW3BXXp9lfomtceywXczepnd0l16UmbfAbOdvDo/86psXktoltO1BBYXusjXcl5PdxLbEvqVUb6+7q1sa/l4tx87e14b+2aknje2Lfy69g9YtaVrTHLD/viel5guc3locS2zzy0PfjWreZ91l+21Nt5u3YS4PaXbmYxnJWt5zv/deovTsrF3cRWIbZ3gZfUsOdMJdVwzKXaZL78/6LdVwPKPOw3KLm76B8ZOSP+K6kyPtm/UkxLXXJmuO0by5rrUbZ2JawLG/N/8xEtz7/F/p2zTLF/hJvTgbmt8k3Zd5m4ajeY1vffh4oeF93tcsv588retz18tOUscUZChI1n3KP2XFMqMfkF0YeSGjdEwE5JnTdrCt0X3cvtebLkMz7Ip856mVYSuVrSMtKRWSgmMwcloP9iFUi+veJjmFt7p9yttmArdXOTsl5Lu6+02huP7Ah/f117bhZMbO/wIZ0YWF7PNqpF5Znj2vD83KmUqAaL8ji882g1iTDYKYJGtJrSqSywpgNzWc7841mtzzETJ6p1fPQS+9qtx/JmY/yy7YOGTO98As/fRu1fhesgWWYlcMLshwe6NNuG+E2y0lM6xwNOPGYZSL4YhiWX6T8HSIfzY1e1q5bWgKP8p0Tz57VJuVcbrwrvw2zVHjluZvD2uBNa3m4+/eUbNwc04YDigoPw7HMpPbIOAcw+fVtebagfT1mjXQ9frwcTxrnDelxQLEBf5HyKff4utYpz/HHrxgHTOko++W7jsawqqC6ucB9Pb4hG92xlPbulCUzsS+RYZZTGRvSZ7XEy93a4MScdtdoJKiV59xlLcXnUat22VaJGCfnmFeDl1Wa/ORbe6BJS4pt+J2EWcZ8g2fuJq3pAF+W/QU1pAsK2yNt+Df6du29CI9Hjuv7M04EvCflhWNa35W72qMvjJMLGtJrSaSywox36Xmo9m21ycBPxLLsmPltUut2uZjjzAs6WyPFwWy8OvO3RVAZ5neFnuXbiWndE3KWdPedpL78b4ZZCfGiNOjPWOMNK1Ok/B2YjzzMvivrd7WOnNMGZT1+7L+sOWv8DX1+YG8ua8AcF9sNvnh7/L1bA4U1jMT65Mj3Dl77YnFr5PPVC2comUj5lOF3rl3zp3kc/Tr4CqubC9vXXe3dX+rzOr9Ao3mlKd8Y6V3HafxCJ6V2xegJOcvi3gxlxEScNv9UTJji1bvFv7kvblNWTKmylPlDMw3FjtPZrhdpo5zrZfHLbjr2pylqfOcsvbZDzgxSUNhmaOr/8H+T1FjHiopiw47dxBrkRF9PUpYPCPxZE737X3107Jdx2vgT/gWALhZjTQZm7gfraMqF7/RcVvvkBvEvfTtDk2JwqTNvbqjaTiJ3fjhJtz0HZS7SxMWzNMSmas8coybbNiyCyjALy/jXfKKZEs+KOaZ4bZJEafhoyqUMS98O0dmTU2yilU68XKvPg7UnKB95+S5Ht/m/B+Istxs2UuxpfcpaVhbo0Xf61GajrHhh2xV5MraT4j8Tczxt8N0Wy+FB9bjHvrKfZ+gK+zf5SislntTnwfKb+fq8+De5L6HXX4YNrG59iU9M0eSsxy85CqybC9rXnVHKfML+3XeMWv81IH/Dklu+p3b8NMaanlyW5mQFaFj8/pE+8VnO9uMj1gj4UzM1fxijY++coGRQBXQvQ60H0jS16yx1/0e+Kg5USNi+zdKkmFHrrJRjm2m7mJjRG9IAHuKHOuk4q01zf+umt77SfzaycKufzp5hDc1Yik4ckA1Nljf1nOzMm7T4WP7gJEs5+3eG765Qv2i8NtFrh4psvLK8zxvktK+a4va6PRbXTxy5OZrz+BXM1AeyQd/VSo1+DXpYZxZp4esMtf3uBKtjE9T9+yalobGBkv/7XWpkU0N/7aahO3qrJPcJq+N5h8aubmrd5929snhvlNKvHGf5Lkapt1Ns64Vb/HKYLvOJGGsE/0LMcuW9rxxNfTEqppLVm2jiz84ftHteB0MZsYuem/pU7dOb9QlTjDZX6VMz387pE3YF1c2F7Ss3NUoix/zbdtr05VuWhxoc/dMQzfwgFoNlsnwN6W07qVH0YrHGwttX8r9oXZigt06+JT9Yid7lkxOU6Bqisy8E9UXrPdcZStHgB8dZM7cAEcJGtIme8LxQnKJF1Izg58kknb15nTqfvkKvJTaJSnLTjqOU2Ziidz/rpybjIm3DTtr9Mp+YYnmzP/9UmB9Zfu86oVe2PqYudrNczarqjmP5bRZr4xM+PY1ztOBWyX83ROf/wBv0jXTsUII1j2C9yz/Z5QnaVNtMo5u76frcOHXusuWOba10+ea7lFo4Ty9WPSHW2dyYpoldnXT9406qtWemr9JyuxX0RPw5OjH/Ig3enKHBQwV0rhiMzhk22XSmlZKR9jVHM5/pU8OvN9LuPwzTws+TlPxFjLJf9dOJpiQ1X/S8jwNLYNO/eNdIU7a7hqaIdXOYfc3dkWtfOU6N//YaDf8Qp+SeaordmaD+ky9S8tf9rMUDy2UZnyNdS8f+T7e4Sp/gj4H7n8/Qbv7YoE27qW9To+wRVpi9y9301u+CTrz5nuvU292UkrcCwyswbADF+mGKzr9yVDyKLvYL1rh84zi17mIn3//O0InfdtOo2cOxkZpODlKK916/f5S2b+KP2NpNz7A82vwduwCUS7laHKXLb/MmQC29djC5rI3X7Mf9okFPL7fSi9vELFjvnmSNg32sQckbCOzjzEcnqHnfUer/b1vD5d4VViZOUOa/ieK7Wun4G8eokTVCeSP26B9YA8Z+4faTjfp29yX0HsOvzlPzr5op/ZnHrRIPC//vLdqfaKZMjijRNU79L7k0xEPti8VH3qGcuBenwewc3R69TtdvztHdv6dY3HM0dOQtulJY8GDZFVE3B1j8UWaYr7IU//tdmrvJ8svobZrLyv19dJTe+hgZZrksY0OaXcDt6qQrNwfp+Au84szSxDcbaf+ZcZo5uds6Nm5hgtKHjN7lzsAxZdn3W1mG1nuu+6P0OjChw2Z6LP91k6QYbl2Dp0UafbOR2j7MihP0zM1h6us6S+9O3KW7F5oo93manntFee7u06wcTF2nsy/zk3WOZmYWqPr1Qbr911b5mwH3sZ+LX1yhNN/IvmPUZBvTXJQf/XJ/3CXvZ2n0Az5ClOj4ocbA3znA+hB74SxdH5ENhH8+osl3UkS3+unontfoinkhmaX+V/bTW58TpViD4u7Eu3S2q4+Gb87Q9TdqKXvxKDX/ZcI6NOJ/HdO3OzJOd7XHNHeFnUPusMZ4QyO9Jcb4B1mkGbbdnXUsHLkYNb49SaNvJNzzbYH7SnZZO3riL7VRG7+KoPM0xS4UYHk89njmM5eMiQPkLkLdXNC+9nVTt3oBx/bX9oq+zPmvZ8S/sPSWtSHNbfxFis7+F6s4+RNEZsfp3dcTtJidFI2GWK3eM8HHv53gL43IZag5rt82E38/b9bHaLL/N/+cz+MvZpmgzK/1RscEa/Q+YSzL/nafFAsTsfliXsCLWcKELT8uaoay98REXm5Ob3RTtePHBwCmxXG60sNzVRO1vWQ9QccPHaPjfOLDyzSqvnQolqTjF/jJmuXNuds0fCZF1d/N6LcPX6q2XeRxCzT6kT4sKXkg6fJ9BMZvCT66LcqERS5L4/zfZzfTJnvX99dDdF7c2ua3KZezXxxWrJ9spNr/6Ka3fsWmc+fpyoTsbTN+dEWtrKyouXgjJX99TOTHqZOjYuiFuw0U+yXb7ht8eoIGP/deUrco7komj/RTNtZI3V/M0PDvakPezfHaFztn8HgxG5+0D4qKU/zf5CQssfwPWWey9oESOZqb1aeqY5v0CS+h6ubC9hV7ukn86zaMLr5NfwACLJ9lb0g7ZWn4ffETJHrtl3Jks3HLz/4nbwHyiql6D5/Hn4axgTa6Lcv+EsYt5G0Jfd7GQk/iLmHbsJ12HuATQzQ6Zb21snhzXH/6x4HdtBPdbuBlYYE8fr5SgEUaHeoTDdrWX8knZqgWWGNdPl0mtackzWhWjrZTUuzoinx6R152alS/4GzazUqL1dTng3pDh48PRTsaCrEgn+SxRHIftlLTf7K8HEvR4MQwdf5rKSryOFUn9FIxfsfeiMrS7Q/5v7iLufQ20PZavcE6xC56LGfzxds0/j6faKLdtYXmAbe6ubB9xXfIevSLLMshVtkZvTvRt6ccyks+Bs9X1GcyGsyXTdiel/h4fs7yoHvt8Zw23GE8pP6y9dmKbgp8mYPxrF7rc6Qfa5NnklqM4lrrpfzjzwsJ26OhVn27/A10xqNNzZdpxBzPOxXMlxTgOdJrSbSyYjwjVH9bWj63sLz5tnzhSUzJJyxvzqmPEv3nI23yHfniB5YHJ10eM2o+05xtx/2Jze7lwOBVhvMvIBjU7jpeXJRweeYqi+s+/h0531gHK160/J3nno9ua8O2l57w5/PfNvK0+rxz8yUWMS31dzWfPtIu/8b+spc57fql69aywsxd6ZRvk1Of0+uW/43npJN27ErQs3sL2RdjPEeav8HuC6PEszj/TaZPwIs/wF/kfDp/WWt1HJf8S1JiynPxH984K95QHH/5cv5YFVI3F7Avr3PEo5t9sg3k/4ZaKK9lbUgb88WrMZVXaTpeieylJA3p/MP11fAVFjb7a5Lzr6zlhcy1uYCG9JoUtaw8nurTGmWeMV796vm6WJl39FcR51/Jzd94NZiVy9iYrzp+3es13O7lwOBVhi2vxBXhNsIT05JnXF6LbL7sKImKfxWKmr8N7vnIyHtxLcHzvVJ/8nn2C7u5K8fM1yo7XsdtKQPGy1v013tbluP58031rZ4u+d88v/j8meeSQvbFGQ13fRl+nnGPA0RRTD69mzEu4OSxNOrhbeyCTmlnmO0Jtf1RYN0cdl+c0XDXv2d17S7j9fLsojKDy67ltKwN6UcTZ7VWJbPFdzVpx/7KruotPRM+ytgjXXDY/jmnXT/TalaGsV80asczt5UrShs0pNekosrK3Lg22JXPQ7yybPpNnzactTVHZy9rxw7kGxu80m7tupx/Ja1D/m1wyXe8KtxoPdLCo9va4OuN+YvHXa3a2VHHUjoz3x/Xrru36GEFKyp/M+756JE2menWWtUOCyPvz7pn6kezw1rfb/J5Ti8Dg7ZXbT/W5kb6WFlRGzTVWlK+ZdHKJf8X1JAuZF95c6NsnRdkvNnyjSzO1lelQxRF59NRdv43Gqr8uLw+6KhfXXukC66bw+3LNHddyfes8c3flOxV18KSqeD/YwfQV0XHtJzK03pq5BQAGFBWYC1D/obVAPkUltIK/LEhAAAAAMDKh4Y0AAAAAEAEaEgDAAAAAESAhjQAAAAAQARoSAMAAAAARICGNAAAAABABGhIAwAAAABEgIY0AAAAAEAEoV7IAgAAAAAAVuiRBgAAAACIAA1pAAAAAIAI0JAGAAAAAIgADWkAAAAAgAjQkAYAAAAAiAANaQAAAACACNCQBgAAAACIAA1pAAAAAIAI0JAGAAAAAIgg1JsNKzqm5VSe1lMjpwBgtUBZBgAAKB30SAMAAAAARICGNAAAAABABGhIAwAAAABEgIY0AAAAAEAEaEgDAAAAAESAhjQAAAAAQARoSAMAAAAARICGNAAAAABABGhIAwAAAABEgIY0AAAAAEAEaEgXbJ5GTqbo1NV5+blM5kfoVOoUjZR5NwBrl62sijKVooGb+seyQLklujlAqdQAOV9GX0pLVA8DAARAQxoAAAAAIAI0pNeUaRood4/barMkvWOwKlQ20OlMhlp2yM+w7sxfPUWpkyOEfmwAKBU0pAEAAAAAIqjQGDntqaLD2Z+n9dTIKS98DFs7jdV3Uv1Ymgbu6HMbOniPEO85TdOIPkvOkx8E6/e0rYV6uxqoUn4U4xDbB2hWfrR/P30hRWnqpN6tl6j9PWOpBurMtFBQqAXf7Rvx6qU26vPZvr6cEW+iKmrpPU0NRiB5T2mPGUOPOI5RvVyH96S03z9ImSNKDNRlcrbtMWq6ijS5pk87wuIpbFwZe5rt7cyH1QhnRz2N9fBllPV908EvH+TDdvB+ez5uyjLWOHP5/dq/C8yDLD6dLFfxfKUeA3FczHRx2463YtaNqriy7J3WBnucLPmAE8ebqLODKM2Pu9hGLU2J7RdeV9j3V3W4l04/b4QoH24xz1Km7OUzL7+PgHqIse6flSuRx/Pl1o9RT4l8JdNUDz9ZwmaNky6oPPvmb+MY9G6hS0qZDZ//bOlirw+M7Wfq6IaynD0e/mXQvg97HG3Hlu/zwy2246Nvg8R2XY63cjxXWzkGgBWEN6SD0B9vOf6CPdSuvnFIO3TopHb1oZzz6Un22W3eRS2/xVvaRbbMxX/Ij8ytfrbOG1fZFo3P6vJyP/3KFvjybBsnPzXWcC7jx3/7RrzU7Rv7zK8nPiv7e/jpRVuc82nA2dfXHl7VTtrTyR5+2zJsK4604+xh0f5x0bF/d+Hi6gyHLc3E9+yzcgw5Zzqw9fqNZYLyQT5s+WX0ddSw6nFVjyfDwnPRsYwzHdXtmHnXckzZPDVOMp729HdTzLrFKK4s+6e1I18Y66nxFGltTcf89vPHwExvxzx1+ywM6nYcaahv1wyj+F49zirbsjJ+6vGw5j+P8NjC7EdPL2UfRto45lm3J9bzK89B+dvYj29cvKl1GWdPl3w8lO3JY2OkryP/s3XMONuWFeQ2PY8t/17dnuA8ho79Mo55jnzkrZh1AWBtKPvQjqrDbWYvQuXzB6nBdd4I3ZDjeuevXqKRvZ2WK/qaF1qo6s4YTcmBbTVH1N7QSqqtryK6d58s4962tVCb2ftRSQ0H2J6v3aAwY2VDbZ+FUe1dqTnSqcRjnu7fY/Hc+pT4jqt8vkXGeZqG35ulhg5rD5J1/RKaH6FL1xqoU+0V3LGfWrbN0thkyJGCvnFlMfp4gEg5pl7pzeflt+KWDmy9I0YPUXA+ECzL1ND+w1U0OzZlPVZ2lQ3UosSHdtSx+MzSg5z+Uezbkn/48TtNnXvlB4GHn6jlVSVObLsH2TIjN4JyWTHrLiO/tBb5jPcaWstOw6sux4z3Lr6g5Eep0LqCh6FFzdeVtVS/jSj7IGS+VkxfaKcByh/z4Pxn5F81viw8LP6stghP3Ycol+xfxzylrIYpzwH5W8eOgZL/nGnrLV+X6Wrq2JG684Aeys86W15gYWpT8svD+7NET2/N5/8dLWaceX0yy9LA0gvPvuflr/TlYx2WYwAoqWUZIx3folSQNqKCvZamVCqV/1OHDEj8tqDxveVWskGtpCMI2r7aSNY9RVvMk7jekJx9r52tb/uh2/x9yrJTVp1ygtbVUB2rgKM0AnzlHrC0G6G0jIv+535L24t/XPWLBj2uyj5sw0z4iXVLTE5ynumgC5sPnGELid/mN7et3kLW911VX+uff0T4Z2mgXQkf+1NvVXsqZt1l5JvWPJ9tq6dae6KJxq29ERenrSELp19doeO37400LCxfm24OsLS3NiwD819A/i1GYDqHKc8++VsX/hi44cMZzP07yjrn3H7llrjZ4BYXJSJ97Y8K1OuThjrnhZZosNs7NIq1DssxAJTWivyxIR9Ll8lkbH+y51KeIMRYVfld7+GC+oD8lWr7O1rkull50lvGJ0fwsYAyLuqfpcenSHxcoH37Gfs46gL55oMiiIskMVbW2CbvYY+Cjw1Vwyb/1N5CT8WsC5zemNPHwOrp16v36BaENcRZQ9B+h4grV/4rWkB5Ll3+dqNfuLSP1efD0BFh65X6E1QyHXHZEF3OZ2+jHANAdCuuIf3UVv9b8/OTYzTLTyRlqqgib39+isbuVFH9TutZlg8J0E9k8rZp5VaKG9MW03TjWkAPnL03RvROBYhtcbm1XiRLXCtp69MRbmV6poMuKB9Ep6ezW8NJ5dy33lNmCgi/r2LWXam88pnMK5a7ESUxT1Njs6Kxqw6/KNT0hbRjCAcXLv+5HMMwZbIYgeU5XP6O7OYNFmvWeLT96DKM6RsjRHvrrBfXosOBXwAZQ1O86xOxvt+dRvvwEtFjHADlGACKtOIa0pU769mJYoD6LG+smqaBC3rFqt4eFOZHqM9taEdEYbfPhzLkn9c8TyPnBpRb2+zzBa9nlepjS0d6rD0w4oTOGvD7PRoFRroMm/vUe9Ks1CEXkry1PnDOGp7pC+F7yP3jKm+5Xktbn1/N0m3A961jbumQT7egfBAab3iw0+l9czPONBJpL6c5fSysdd/zV/tst8/1oTgjPdZ0nL86EKJnLXhdvbc1/739s+h1XEnPwxVjQ/ltbjVOMq/sPViGRp3e4Jq9n286OY+RP56maft4Yykw/xljYS3H0K1MllhgeQ7O30VxlCevOI9QWs2fYvgMa+DLIRt+9Y8x7MPy1kJj+I3L2HpBjAMfoUvmOjLvyU8GR/1e5nIsniai9rbbPtvLNQCsPitvaAe/5dfbQmQZc3uJthgVqPjRiTJG8BzRwVIO7Qi5/arDnbTlQ7kMH6NI+UcpCfcGqN3YhvkIJv0r3kvde5gsY+vEUBK/Xh6WLvzHOiM9xjo3qM7xwyZ1bLbxYhY2r6uXhU4NT4oubd3PTgPhBMaV9yp1sNOYGTb21/6A6gKGjjjToZ3GtsqxyUH5ICyzgcfX5ycs/Qdw6nZv1Nlufbvsu4/abD82ZKfRIxlrXmF/7ffZCd0/2kIx665Uzjjpjycr121u8aNXZRxzHx0MP7TDvEC2HgP+J8pNiPznjK9bmSy1oPIcIn8XQ9RDapllcXYd2sEuUA48yIdRDJ9RHwvnzCfmUDO3tBeP0/PrZa+hFhaO/G81+ohedYm3+GGm3Lds6KMcA0AxyvgcaVj95q3Pal3neC+w/TnSqw3KMgAAQOmsw4b0tO1B/4q9q7uRFIVoHLr+ypz/iGY/3UdDWtLzjXpnwY9/uhb3I8xioCG9dPhte9cnChF/NNwK+NGih9Ua7nJAWgBAEPRIg4912iPNn9zy8VY6bV5U6engGNKyCqEsAwAAlM6KfPwdwLLiv8a3PEN4bTSiAQAAoLTQIw2wjqAsAwAAlA56pAEAAAAAIkBDGgAAAAAgAjSkAQAAAAAiQEMaAAAAACACNKQBAAAAACJAQxoAAAAAIAI0pAEAAAAAIkBDGgAAAAAgAjSkAQAAAAAiWJqG9MIMZX67myoOZignZ5l+zNHouTbav2MzVVRU0OYdz9HRP49S7kf5fSgLNPVBmo4mnhHbqKjYTNuTRylzR37NfTdFmT8dpefMZZ6h3Qfb6PyXC3IBAPBVbFkNu36RZXXqL6yuEeulaULOAwAAKIeyNqQXv51gJ8QX6ZlN26n5nNspLUuZI7X03G/P05XvNlFyX4KeuDVK/X94jmqPZNi3IfwwQelkNe1MnaD+rx5T9Z4kJfdsokef91P2O7kMk/usm5pPsnkUZ/tJUnUsSxMfnqe2f6um5g8dzXsAsCi2rIZfv6iy+t0V6j+D5jMAACyN8jWkv0rTEz/fzU6IQ/Q4FpMzrbIX26j5fXZiPNBHt2dv0/WRcbqbHaQUWzz3/nHq/3xRX9BTjoZeaaITn+co0TFMc4/n6Pbodbo+epvmtMd0/H/JxbhYM12f0+juBPt+5DrdnntE410J9kWOMm8O0pS+FAC4KLasFrR+5LK6SKNnWuk8rosBAGCJlLFHegMlXu6mwYk5Gn97t5ynmqKhv15h/8ao+/fHqPpJfS49naLuriSbyFH6w1Hyu5m7+HkfHRMn50EafLORYhvkF8IG2vATOcnE9jRR0tKe30iJQ63E90RfL7JTMAC4K7asFrZ+1LK6+GU3vfbnHDUdaJJzAAAAyqt8Deldx2n8QieldsXoCTnL4tsZGv+aTzRT4lkxxxSvTbJTLvPRlM8t40Ua/yTNTsFEx/+jieL6zMJ8l6Pb/N8D8WjrA6wHxZbVoss6E1RWf5ig7lfTNPXLd+nsb3fKmQAAAOW1ND82dPNtlob4v/uqKW7pSWZicRJ92Lk5mvPs5pqhiff5v0208+dZyvxhP23fLH9o+O9BP0xapIWvM9T2uxOsIZ6g7t836SdzAHAqtqwWtX6YssrK/ytNlP46QWffbKW4cicKAACgnJavIW3Y+IR7j7UwRws/yEm7XJZui7GQWep7OUnNf56hjTuSlNiWo5mP+Q+TdtIJ27jN3Acvyl/zP0GbaptpdHM3XZ8bp85d9rM7ADhELauGAtYvpKxm33+NmtlFdSozSMdtPd4AAADltPwN6ah+NMZKTtEEtdH4o7s0PnKdxmeNHyZlKf3789YfJj2pPwUguada9GrNfHSCmvcdpf7/xghpgBUlZFld/CpNzb8eothLb1H3IQzQAgCApbX8DekfiR7LSac4xX4qJ30c7zpOiY3yA/9h0sttJH5u9PU4zXwrZgqxF86KpwCIp3r88xFNvpMiutVPR/e8RleUR+UBgItiy2oB64cqq/cy1PqrEzSxq5uG/pbC7xwAAGDJLV9D+qcx/Vf4H90WPxi0yGVpnP/77Gba5DXq4mdxqpaTm/7FthD7LvDnRj/ZSLX/0U1v/YpN587TlQm/MdUA61ixZbXY9T3K6sT7zZThG/zqBO3+Fz4MRP4lTojvidh8vJgFAADKaPka0tu2y0dcXZG/6M/LTo2KE26saTfV6rNcVNPOl/Wpyazt9HwvS5NiIlyPNgD4KLasFl3W3W3YmNSHf9j/dhl903FKiHkbyauNDgAAUIxlHNqRoMbf81PnFJ19O0NZ4zXB9zJ04uQom0jQay/wsc5cjoaOPEMVm5+j9FfGGMmN1HjouBg/OfT745S5p8/lryG+8rez4ikBsY5G2i3OoDN05YMpWrC8iniBZv7vCTr+EZ9upWR+bAgAWBRbVgtZP3xZrX1Vf2GL4+8vreJ7vuxbYt6xghvpAAAAoWgh0B9vOf4KMZdp0viu6MCgNifnCd+Pa9272Hz+3baEltyX0OJ8mmJa8syk9lgupn0zqDWJ+eyva1zO5Oa0yy/H9flsneo9Sa06Jpfb1a2Nfy8X09h+xDJxLbEvyfajLMfmtV66K5cDWNsil+Viy2rY9UtRVie65fKsDpCzAAAAymF5f2z4ZII6P7lNg683UvUPEzT62QTRrlY6OzpF11+vzd+O/VmSml9mp91Ykrr3qX1LMWq6MEm3h7qpddcTNPP5KM2wbbZ2Xabbn3RSwniDGlVTY4Yts2cDZT8bZfvRl2v6TR8Nz07SuweMW8EA4KrYshp2fZRVAABYRSp4a1pOe6romJZTeVpPjZwCgNUCZRkAAKB0lv/xdwAAAAAAqxAa0gAAAAAAEaAhDQAAAAAQARrSAAAAAAARoCENAAAAABABGtIAAAAAABGgIQ0AAAAAEAEa0gAAAAAAEYR6IQsAAAAAAFihRxoAAAAAIAI0pAEAAAAAIkBDGgAAAAAgAjSkAQAAAAAiQEMaAAAAACACNKQBAAAAACJAQxoAAAAAIAI0pAEAAAAAIkBDGgAAAAAgglBvNqzomJZTeVpPjZwCgNUCZRkAAKB00CMNAAAAABABGtIAAAAAABGgIQ0AAAAAEAEa0gAAAAAAEaAhDQAAAAAQARrSAAAAAAARoCENAAAAABABGtIAAAAAABGgIQ0AAAAAEAEa0gAAAAAAEaAh7TBPIydTdOrqvPw4QqdSKRq4qX8sC7GPUzQidwkApYCynLcMaVGIJUq36QspSl1wviYfACAqNKQBAAAAACJAQzpIZQOdzmSoZYf8vOZN08BK6qkCKJV1V5Z9IC3CuzlAqdQAqxkBAJzQkAYAAAAAiKBCY+S0p4oO57W41lMjp7zwMXntNFbfSwfvt1P6mpy9rYV6uxqoUn7k5q+eovb3ZuUnZm8nZY4o2+c9Aj1EnR1E6Z4RuY1amhLb76T6sTQN3NEXbejgvSy8VzVNbEllnvzA2PdXdbiXTj9vhCgfbjGPj91rH6P63tPUUKl/Z+xLld+Hdd/B8a2ilo56Gusx9iFne+Bj/NLUyf5LizTNh90ZNnu8BZGWZuis4bN/x7huQ2Wkj4jDAOmxaqDOTAvVWLYn58lPgljXWIexHfewxykof3kRaWmsx1jiagtb1WE9n5n5gsftwy22fenHnny2Yw2fEYd8Hg5M7yKhLK/csszp4SdL2Kxx0lnzLtuvfX9B+deSFvoyy1/eeHjaiM4px8Wef3zLkzMO9vWNNNfn6XF6cMAlT43Vi+0+tIWZhVqpx4LzBwCsA7whHYT+eMvxF+yhdvWNQ9qhQ4e0i/+Qs7Rb2kX2+eSnD+VnNqefL3ORfWOQ671xlU1J/7gotnOoX92vsf2T2lW54MNPT+rLOeap22dhULfz8Kp20hJGfbtmGMX3+e1Z2ZaV8ctvS8ZPiYtreGxh9qOnl3Uf5jZc4qWmtb5v636c6e+Mgy+5n3wc88fdMc8RPjUs9mXCHaeg/OVFpIUtj5nbcezLSCdl2zxPqusLzrS71e+St814GXEId+xLAWXZK61ty8r4OfKAEpeSl2UjbRzzrNsT66nxti8TJv860iJcWlrCJuOr5gFPbHsX1eU8wmyNq0xPM1z2Y8LC1J8/HmHynzXt9O/VdOLc6gbrdjl7WOS2HXUCAKx15R/asbdTudqvof2Hq2h2bIrEj7PnR+jSNd6bovZUVlLDqy1UdWeMpiy/4GbLvaD0TEhVh9vMHpXK5w9Sg+u8EbphjvmtoRa1h6Oyluq3EWUfFP5z8ekL7TRALdQme23mr16iEUt82d5eUOMyTcPvzVJDhxpfFh4W/yr5KZRtLbTf0oPC9st7QyzxaqA2Na3NfVt7rmqOdNrSJwp2bF41emLY8TsgjoJz3rUbLBS66Y8HiJTj5Fwm5HHyy18+Ht6fJXp6qwwfs6PF3A4P26z9OB7ppRa2/0LVHLHm7dp6dqTv3beGby/Lo8oxWbFQlktfltV97Niv5zHHvFkam5RxEuncQJ1qvG3LRMu/5S1vvD5qUXvVd9SxYzlLD3Lys2Stn1iYOpQ6Yf4+ZVnqbomJLxmWv47IOqag/Fe84PwBAOtF2RvSVVufklMucg9odls91Sr1qyAqcXslG6et9uU8xLcELchvyaUoJf7cb+8GujlAaV5xm41F2Ti7lpbblX/qbUhxImigOqXyjURtADJ8v1X1tZZ5XOXOelaxP6CH/IPnvmuobm+0xoc/v+M1T/fvEc2+125NK9uwkjDHyTd/+RAnPXGs7I/c0sPWUKc0KorEbycbcbTcdpaixmGpoSyXoSy7CExndjGRVsNliXcx+bd85U3gwzLM7StDIkxqI1mKbWFzs3Sfl1HWGD+4d5YG2tn69kfYFZT/iheYPwBg3Vh3Pzbk4994Jc7HsWYy/C9KTyM74bBGn713l+PjCvXtqn/O5UAfI+lMK71HqTTHyYd8akGmI66fmMvxDFvZcBBjMmX8eg8X1F8JPtZtWeZ3nxzhyjjGURei3OVNXEyKMdDG9vmdsMLVHJFhuycbscv4TGjU9QDALW9Dmvc2uN0Km5+isTsuvRNFm6epsVlRAaq35Ao1fSHtuK3HPbU1zG1Ol2EUopcpOq/9zk+O0ey2LST6kCq3Utx1CMc03bgWpuevlCpp69MsJW54nQRLc5xC2dHCTn680aDcPmecYXtID+w9dEZvv0H0Uubp6W8bcrNWoSzriizLgbzS2SZU/jWVu7zpdYzbxUoQvQzZe5orqaGLNVrVYR9F5D/73TjR2xwgXP4AgPVgeRvS5q069Rmd8zRyjo/xK8e4Ub0BN3s/3/yZv9pX0O1g3nOTto9RlPShFAPUZ7w9TJimAaPXRMSXneR61PjqPWLFEGNH2X7b1d6Z+RHq42M4Dxi3q/XxjCM91p5X0ZCwjLl+ira4jY0ssZo6fhJMW59XzcI8INKu+OMUZPqC13NhjbHa1rCJdJLTghjjOUKXzGMt8638xFVuiVsb2/KYBOJPtlB7yG2f9d7DFfZcW5RlpviyHEgOVRg4N2JpxOXzc8j8a1Hu8uasU9zDY8s/sryYw9bM+sFFpPyn/2Zh9r3h/DpimI+cNqjDS6TA/MGnU8qbJO2fWVxW1JslASCyZR/awW/Vde5Vx/zpj1iyPPKohMSP65SxbX10MPwtTLMhZB+jKCtEVpmf7m0hsoz9vURblB9WOeN7g+oK/YGSQw218Ful6pg9eRtV7WGqfP409R4mOZRB/xPDDiyPbNJPxMb45bJV9LwnuIM1RXvyYUm1P6A6eXu6qOMUijPPmbfGXcJ2o473Wutf6/QfQuXHefcRvWq7Xc22YznW54gOruGhHSjLpSjLQXhvLMuLxC6czf2m6NLW/WJIlBAq/1qVt7yxML9qTcsbdbayIlSxMrWFLsll+JhjOmx99F9WPR78MYrKIzWj5L/K59tYPJV1btQ5h1+ZjXS+jGyoh8gfALA+lPE50gBrif7MWUuDexVCWQYAACgdNKRXGH672e3JDqK3JsRLHkqO34Jsd/81Oh9TuWIblSUPNxrSUJgVV5bLabXWEwAARUJDGiAUNKQBAADAat09/g4AAAAAoBTQkAYIhf/Iq7hn9QIAAMDagoY0AAAAAEAEaEgDAAAAAESAhjQAAAAAQARoSAMAAAAARICGNAAAAABABGhIAwAAAABEgIY0AAAAAEAEaEgDAAAAAESAhjQAAAAAQATlb0j/mKPRc220f8dmqqiooM07nqOjfx6l3I/y+yBFrD/1l91inYqKNE3Iearc5+ep7d+302a+zObt9NyRt2g0J78EAKslK8sLlP2Elc2Du+kZUX4r6JnEUUp/NMO+sStkWQAAgBLTQqA/3nL8hXNXG3wppvHdUKxaS+5LaHE+zf5iLw2yb4MUsf78sHYspi9L1K2Ny9m6x9rkmaQWE9/FtOo9SS25Ky6XTWjdE4/lcgBry2ooy5NvyuVk2Uxs05fjf4mucVZ68wpZFgAAoNTK2iOdvdhGze/niA700e3Z23R9ZJzuZgcpxVqwufePU//ni/qCHqKvv0ijZ1rpvFfv8rdD1P2HUcpRLXV+kaXbo9fp+sRtGu9KsC8n6ETXIGX1JQGAWcqyvPhjnI5lJunRP+dE2Ryf1eju31PEFqWJk2dp6Ft9Oa6QZQEAAEqtjA3pKRr66xX2b4y6f3+Mqp/U59LTKeruSrKJHKU/HPW5/Rp9/cUvu+m1P+eo6UCTnGPzbZaG+L/PNtOL/7pBzCLaQImX2kis8UmObR0AdEtblmt/N0p9h2pp40/kDCbOymabmBqirNI4LmRZAACAUitfQ/rbGRr/mk80U+JZMccUr02KHiP6aMq75zfq+j9MUPeraZr65bt09rc75Uybn8aIn74pt0iWfrSFOX17z25gzWoAEJa4LG940q/0saWVRnMhywIAAJRaGRvSstd3XzXF7ee6WJx2839zczTn1Y0Vaf0sZV5povTXCTr7ZivFvU6i25qp83V2ks31UfdfJmiB/9hpYYb63z5LU+zkm/rPZqrVlwSAZSnLVotfDtNlPhFrpcQvxCxPhSwLAABQjPI/tWPjE/SEnHSao4Uf5KSXAtbPvv8aNb9PlMoM0nFbz5fVBkqemaHrHXG68vvdtOl/VlDFpu109P1NlHpnlPoPiD4yAFAtYVm2uJeh1gNpdpFL1HSmlZJ+ndCFLAsAAFCk8jekl8jiV2lq/vUQxV56i7oPxeVcL4s0da6VjvZMEMWqqfE3nXT85QTFaYYyJ9uo+zOfrjEAWDIL/+8t2p9opkyOKNE1Tv0veZftQpYFAAAohfI3pH8keiwnneIU+6mc9BJmfd4L9asTNLGrm4b+lmJz/S1+3k2Nvx2iLFt+fOY2Df+tm85e4E8ReJeacqOUbmilDH6kBGC1FGXZtEgzF4/SzrrX6EouRo1vT9LoGwnaKL+1KmRZAACA0ilfQ9r4Qd9Ht51PwMhlaZz/++xm2uR167WA9Sfe13uh6KsTtPtf9JcyiL/ECb4Uw+aLefzFLIs0/klabLPplRQl1LPt08107HU+MUSXv3DsFWB9WsKyrFukiZ79lDzST9lYI3V/MUPDv6v1+AFwIcsCAACUVvka0tu2U1IMNb4if7Gfl53iz3AmijXt9v5RXwHrb9iYpOQ+l79dRt90nBJi3kZ2gl2gBbSRAcJbwrLM5T5spab/ZPNjKRqcGKbOf/XuWy5kWQAAgJKTL2bxFfVtaJNnasUbxsSby/4pZ2YHtZR442BCOzsl52lz2uWX4xrFkpa3CoZf38NEt1jf/mbDuxca9fm72PxHcibzeOqs1iiWj7FwyJkAa8jKL8uT2tln+TzSjl0Jei9hIcsCAACUXnlfEf79uNa9Sz/R0baE8lrgmJY8M5l/fe83g1qTmM/+upQmb9j1vXg0pLXHk1rfC8arheNaYl9SS+6plq8Mx6uFYe1a8WVZXd/rz9huIcsCAACUQXl/bPhkgjo/uU2DrzdS9Q8TNPrZBNGuVjo7OkXXX1fGMf4sSc0vs9NqLEnd+5QbxGHXL9SGWjo2NEXjmW5q3UU08dkojX6+SPEDx6jvyl3xQyWMsQRQrNSyDAAAsIwqeGtaTnuq6JiWU3laT42cAoDVAmUZAACgdNbMc6QBAAAAAJYSGtIAAAAAABGgIQ0AAAAAEAEa0gAAAAAAEaAhDQAAAAAQARrSAAAAAAARoCENAAAAABABGtIAAAAAABGEeiELAAAAAABYoUcaAAAAACACNKQBAAAAACJAQxoAAAAAIAI0pAEAAAAAIkBDGgAAAAAgAjSkAQAAAAAiQEMaAAAAACACNKQBAAAAACJAQxoAAAAAIIJQbzas6JiWU3laT42cAoDVAmV5dcPxAwBYWdAjDQAAAAAQARrSAAAAAAARoCENAAAAABABGtIAAAAAABGgIQ0AAAAAEAEa0gAAAAAAEaAhDQAAAAAQARrSAAAAAAARoCENAAAAABABGtIAAAAAABGgIe0wTyMnU3Tq6rz8OEKnUikauKl/LAuxj1M0IncJAACwFKYvpCh1wfnqeQecpwBcoSENABHpF50pdqFp/JkXoAAAAOsAGtJBKhvodCZDLTvk5zVvmgbK3QMPa8PNYXpwIEMZVj7EX28L0XvtyDvr0c0BdiE1wGoPAID1BQ1pAIhmR4v1ApNddB7cSzRyA80pAABYHyo0Rk57quhwnhi1nho55YXf9m2nsfpeOni/ndLX5OxtLdTb1UCV8iM3f/UUtb83Kz8xezspc0TZPu/t6CHq7CBK94zIbdTSlNh+J9WPpWngjr5oQwfvPea9qmliSyrz5AfGvr+qw710+nkjRPlwi3l8XFj7GNX3nqaGSv07Y1+q/D6s+w6ObxW1dNTTWI+xDznbAx/PlqZO9l9apGk+7M6w2eMtiLQ0Q2cNn/07xnUbKiN9RBwGSI9VA3VmWqjGsj05T34SxLrGOoztuIc9TkH5y4tIS2M9xhJXW9iqDuv5zMwXPG4fbrHtSz/25LMda/iMOOTzcGB6F6m4shwcTiN/WsqvB9/0t5cjXk6U8hFUZ3iXE/t+rdtd6Up//PzT2eCX3vbjyLbuLOs29uPD6ceIXYgp9Zi1zOvsYbHnRd98ZdbnB+lBez7ebvtx5Vue7ftm6SDOWezcJdNDhP3+QWv5MMOUT/dQcTDr3Hx6B6UN27L1eLPjKI4B+39gmXUJp2N7HvknKF2CWNe37SNk+yB8nneWF37HDcATb0gHoT/ecvwFe6hdfeOQdujQIe3iP+Qs7ZZ2kX0++elD+ZnN6efLXGTfGOR6b1xlU9I/LortHOpX92ts/6R2VS748NOT+nKOeer2WRjU7Ty8qp20hFHfrhlG8X1+e1a2ZWX88tuS8VPi4hoeW5j96Oll3Ye5DZd4qWmt79u6H2f6O+PgS+4nH8f8cXfMc4RPDYt9mXDHKSh/eRFpYctj5nYc+zLSSdk2z5Pq+oIz7W71u+RtM15GHMId+1IoriwHhTN83gmT/ta8e9Hcd5g6w72cyPlqvhJ1y9Klf7FKevxc0tmoa5153z+99fXUZfw5jo/cr3OeNcyOfGMvq+zzRUd8lG3I5S1hddmPO3v+ZunQb8tzLmFT9yXCr+Y/TixnDWOoOKj7YgLTRobfeU5g27KHyY1LOPn2Q+WfgHTxE1hm5T6tcSgmz3usC+Ch/EM72BVv/oq4hvYfrqLZsSl2zcewK9xL1/jVoHpVWkkNr7ZQ1Z0xmrL8bokt94Lz2rXqcJt5JVn5/EF2res2b4RumOM2a6hFvfKurKX6bUTZB4X/SGr6QjsNUAu1yZ6M+auXaMQSX7a3F9S4TNPwe7PsyliNLwsPi3+V/BQKu+Ler+xD7JdfhVvi1UBtalqb+7b2FtQc6bSlTxTs2Lxq9Mqw43dAHAXnvGs3WCh00x8PECnHyblMyOPkl798PLw/S/T0Vhk+RhmmwMM2az+OR3qphe2/UDVHrHm7tp4d6Xv3reHby/KockxWLN9w8l6ctMiHat70Eib91R7Cyudb9H0XUmfYwyLWbaBONV/t2M+O6yyNTQblmDXAdvzc0pkfh051eE5BdXSB1DImjgP71zFPPTa8DiOlXmHsw4nY5xZLfOpY/TZLD3Lys2Spg8Pmgfn7lGX12paY/MzT4YgMi5FOtrCd7uB1YYHCxoHVl/mlgtPGOE8Y5yuu8vnT4nhHUVD+iZouocss24dL+yBSnjeslnoZll3ZG9JVW5+SUy5yD2h2Wz3V2jOraDTZK444bQ2ZqeNbghbkt3aMJw24D9UIdHOA0rYKQjQOrqXNJxiIP/U2oKiIG6guREPDl9oAYfh+q+prLfO4yp317GT3gB7yD577rqE6VolEuZDw53e85un+PaLZ99qtaWUbVhLmOPnmLx/iAkccK/vjnPSwNdS5VMoR8duSRhwtt8elqHFYap7hZCe7U/z4PN1JmZDDaiKnfyF1hq2ciHXZRWPazFPe+Wotsh4/73SuqWONHONir6A6uni+ZUHUYbM00K4eP+sQCEHkR+N79Ra+QW0MF0A0TOX+7Y+L80qnqAqNQ4i08TpPRFNk/gkrdJl1P99EyvPSaqmXYfmtux8b8jFkvGLi41j1pw1E6WlkDTzW6LP37nJ8rJ35FAPzz7kcsArNPAbqn95TVJrj5IP3ivDtdsTlyacMz0eVJ0Mx/lDGr/dwQfceVj4+PpFdLMb5cVJ7jYIsRfq74Xdu5LFQ/0KNj4UVgI8Hdh4/dbx2SozjNb7jd9xKp+YI3yari+7JDpMwz18uUPQ4+KfNqoUyCyvc8jakY1vcbw/OT9HYnYi9Br7maWqMXZWzxq56275Q0xfSjiEc3FNbwwwrcBlGIa66o/Pa7/zkGM1u20LiurpyK7tmdxvCMU03roXpxS+lStr6tMutNFNpjlMoO1pYpcwb6dZbhc6wPaQH9l4Qo7ffIHqF8vT0tw25WUvEj3yy1MJO+JGPkyP9A/JGMXWG17rrknc6T98YyffmL3kd7cOzDjPodZlbB0dpVVJDF2vM8eEJynA1ckmn+QdqjSDZh3ZZ6v+IcQhMG53zPKH30hYuZP7hwqaLm5KW2QLCDFCA5W1Im7fK1OePztPIOT6OqRzjk/SCNHs/3/yZv9pX0K1d3lOato/ZkvShFAPUZ3kpxTQNGL0WIr6sIPeo8dV7t4shxoGz/barvSPzI9THx0Sb4+j08cMjPdaeP3FRYBlL+hRtcRuLXGLiVtq1tPWZwyzMAyLtij9OQaYveD3z1hirbQ2bSCc5LYhxiyN0yTzWMt/KT1zllri1sS2PSSDeQFV7aG2f9d765X9mLz/5qL9HKIR3+rO8IYd9qC93mb86oMe/mDpDDkcYODdiaUz4hWUtc0tnc8iaMd40bHrzBg+7jLyvJmzJ6cPQrPWnkjdc6i5HuS2GWT+5kON2LXnLpbwb54hhs26x1/9R4xCUNvJ4285PxdSrofJPyHTxVOIyGyrMAAVa9qEd/FZZ5151DBR/7Exv2W5HiR/XsYJkjLfqo4PhhwyYFYB9zJZ8gQm/XS1fSpH/7hJtUQqoM743qK7QHxs61FALv/2nxMu4Naj2FPIflvQeJnkrXf8Tww4s41r1hqQxfrlsL9fgPZEdrCnakw9Lqv0B1cnbdUUdp1Ccec68VegStht1vNdU/1rH0pwtkx/n3Uf0qu0WrPgRi7Kfc0QH18zQDr0nyzHOXfyFGabhk/4u5ah9bIs5zjJ6ncF7EtlxJHbRaa6boktb97OjuQ651VfikWT2HySHSG+zwc2/L9+FiTMsLG/cZxe1Irzs+L5qjc+NurDDIsLJOtLK+NGiS95i5b3N/qM6lk78R+D5usVe/0ePg3/aMC7Hu4/a2Dry+0KFyj8h08VTictsyDwPUIgyPkcaYC3hT6WwNfhWIZTl1Q3Hb5Xhd5MsDW4QkC6whqAhvcLYH6ifV0XL8uKIef4QfuuQBUPolxgsh5KHGw3pwvAnrnjckt4b4uUP4Gq11MUrrh4LqeThXk0NxiWs68ULVuRLYKwvW1HxH0+ioQ0rHxrSAKGgIQ3LD8dvlVn3Pa+83hymrV35+OsXK7SiL6gACrHuHn8HAAAAS4H/cNw2bhuNaFhj0CMNsI6gLK9uOH4AACsLeqQBAAAAACJAQxoAAAAAIAI0pAEAAAAAIkBDGgAAAAAgAjSkAQAAAAAiQEMaAAAAACACNKQBAAAAACJAQxoAAAAAIAI0pAEAAAAAIih/Q/rHHI2ea6P9OzZTRUUFbd7xHB398yjlfpTfByl4/QWa+iBNRxPPiOUrKjbT9uRRytyRX0u5rzKUPvIcbd/Ml+Hb3U9t5woIF8B6U2xZXpihoT8dpd1Vepl7JvEivfbBDCuxLopa9iilP/JYdj0r9vhxLK0zv91NFQczlJOzhO+mKMOOwXNmvfsM7T7YRue/dDsKE5QWy7j9pdm3AACrCH9FeBD64y3HXzh3tcGXYvwV5BrFqrXkvoQW59PsL/bSIPs2SIHrfz+ude+Ry1NMq96T1JJ7qrUY+9w9IZdh5i6l5DKkxXexZX5hrBM2XACr07KV5W8ua63b9OVpW4Ktn9SqYx7rF7JsdlBLye9EuHbF9Wn2l+ga1x7LxdaK5Tp+j78Z1wa7msx16MCgNie/4+YyTWK+qE+V48Xr4dQldUmO1dPGdhx/3exbAIDVo4L/j1VgAAAAAABQAIyRBgAAAACIAA1pAAAAAIAI0JAGAAAAAIgADWkAAAAAgAjQkAYAAAAAiAANaQAAAACACNCQBgAAAACIAA1pAAAAAIAI0JAGAAAAAIgADWkAAAAAgIIR/X9CXwRDUC8LXgAAAABJRU5ErkJggg==)"
      ]
    },
    {
      "cell_type": "markdown",
      "metadata": {
        "id": "Jh3hXjIwmCSF"
      },
      "source": [
        "![image.png](data:image/png;base64,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)"
      ]
    },
    {
      "cell_type": "markdown",
      "metadata": {
        "id": "7uPVmbarmdHH"
      },
      "source": [
        "![image.png](data:image/png;base64,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)"
      ]
    },
    {
      "cell_type": "markdown",
      "metadata": {
        "id": "BNkmM9CBpmh5"
      },
      "source": [
        "# Part 5: Stretch - Model Deployment"
      ]
    },
    {
      "cell_type": "markdown",
      "metadata": {
        "id": "7O274MsKpmh5"
      },
      "source": [
        "### Q. Evaluate the open-source app framework for Machine Learning model deployment below in your own time.\n",
        "\n",
        "* https://streamlit.io/"
      ]
    },
    {
      "cell_type": "code",
      "metadata": {
        "id": "1UJTXklTpmh5",
        "colab": {
          "base_uri": "https://localhost:8080/"
        },
        "outputId": "38bc2557-9fa3-4007-d492-77353f9ab28b"
      },
      "source": [
        "import urllib.request\n",
        "import json\n",
        "import os\n",
        "import ssl\n",
        "\n",
        "def allowSelfSignedHttps(allowed):\n",
        "    # bypass the server certificate verification on client side\n",
        "    if allowed and not os.environ.get('PYTHONHTTPSVERIFY', '') and getattr(ssl, '_create_unverified_context', None):\n",
        "        ssl._create_default_https_context = ssl._create_unverified_context\n",
        "\n",
        "allowSelfSignedHttps(True) # this line is needed if you use self-signed certificate in your scoring service.\n",
        "\n",
        "# Request data goes here\n",
        "data = {\n",
        "    \"data\":\n",
        "    [\n",
        "        {\n",
        "            'symboling': \"0\",\n",
        "            'normalized-losses': \"example_value\",\n",
        "            'make': \"example_value\",\n",
        "            'fuel-type': \"example_value\",\n",
        "            'aspiration': \"example_value\",\n",
        "            'num-of-doors': \"example_value\",\n",
        "            'body-style': \"example_value\",\n",
        "            'drive-wheels': \"example_value\",\n",
        "            'engine-location': \"example_value\",\n",
        "            'wheel-base': \"0\",\n",
        "            'length': \"0\",\n",
        "            'width': \"0\",\n",
        "            'height': \"0\",\n",
        "            'curb-weight': \"0\",\n",
        "            'engine-type': \"example_value\",\n",
        "            'num-of-cylinders': \"example_value\",\n",
        "            'engine-size': \"0\",\n",
        "            'fuel-system': \"example_value\",\n",
        "            'bore': \"example_value\",\n",
        "            'stroke': \"example_value\",\n",
        "            'compression-ratio': \"0\",\n",
        "            'horsepower': \"example_value\",\n",
        "            'peak-rpm': \"example_value\",\n",
        "            'city-mpg': \"0\",\n",
        "            'highway-mpg': \"0\",\n",
        "        },\n",
        "    ],\n",
        "}\n",
        "\n",
        "body = str.encode(json.dumps(data))\n",
        "\n",
        "url = 'http://874bd145-0dc9-4c21-8e40-4c8c62ec563f.eastus2.azurecontainer.io/score'\n",
        "api_key = '' # Replace this with the API key for the web service\n",
        "headers = {'Content-Type':'application/json', 'Authorization':('Bearer '+ api_key)}\n",
        "\n",
        "req = urllib.request.Request(url, body, headers)\n",
        "\n",
        "try:\n",
        "    response = urllib.request.urlopen(req)\n",
        "\n",
        "    result = response.read()\n",
        "    print(result)\n",
        "except urllib.error.HTTPError as error:\n",
        "    print(\"The request failed with status code: \" + str(error.code))\n",
        "\n",
        "    # Print the headers - they include the requert ID and the timestamp, which are useful for debugging the failure\n",
        "    print(error.info())\n",
        "    print(json.loads(error.read().decode(\"utf8\", 'ignore')))"
      ],
      "execution_count": 12,
      "outputs": [
        {
          "output_type": "stream",
          "name": "stdout",
          "text": [
            "b'\"{\\\\\"result\\\\\": [4252.71844093828]}\"'\n"
          ]
        }
      ]
    }
  ]
}